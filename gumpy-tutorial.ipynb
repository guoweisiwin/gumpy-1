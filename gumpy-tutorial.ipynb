{
 "cells": [
  {
   "cell_type": "code",
   "execution_count": 10,
   "metadata": {},
   "outputs": [],
   "source": [
    "import gumpy, copy"
   ]
  },
  {
   "cell_type": "code",
   "execution_count": 2,
   "metadata": {},
   "outputs": [],
   "source": [
    "reference_genome=gumpy.Genome(genbank_file=\"config/NC_004148.2.gbk\",name=\"Human metapneumovirus\")"
   ]
  },
  {
   "cell_type": "code",
   "execution_count": 4,
   "metadata": {},
   "outputs": [
    {
     "name": "stdout",
     "output_type": "stream",
     "text": [
      "NC_004148.2\n",
      "Human metapneumovirus\n",
      "Human metapneumovirus\n",
      "13335 bases\n",
      "acg...cgt\n"
     ]
    }
   ],
   "source": [
    "print(reference_genome)"
   ]
  },
  {
   "cell_type": "code",
   "execution_count": 4,
   "metadata": {},
   "outputs": [
    {
     "name": "stdout",
     "output_type": "stream",
     "text": [
      "['F' 'G' 'L' 'M' 'M2' 'N' 'P' 'SH']\n"
     ]
    }
   ],
   "source": [
    "print(reference_genome.gene_names)"
   ]
  },
  {
   "cell_type": "code",
   "execution_count": 7,
   "metadata": {},
   "outputs": [
    {
     "data": {
      "text/plain": [
       "array(['N', 'N', 'N', ..., '', '', ''], dtype='<U10')"
      ]
     },
     "execution_count": 7,
     "metadata": {},
     "output_type": "execute_result"
    }
   ],
   "source": [
    "reference_genome.genome_feature_name"
   ]
  },
  {
   "cell_type": "code",
   "execution_count": 10,
   "metadata": {},
   "outputs": [
    {
     "data": {
      "text/plain": [
       "array(['L', 'L', 'I', 'T', 'P'], dtype='<U1')"
      ]
     },
     "execution_count": 10,
     "metadata": {},
     "output_type": "execute_result"
    }
   ],
   "source": [
    "reference_genome.genes['F'].amino_acid_sequence[10:15]"
   ]
  },
  {
   "cell_type": "code",
   "execution_count": 5,
   "metadata": {},
   "outputs": [
    {
     "data": {
      "text/plain": [
       "array(['a', 'c', 'g', ..., 'c', 'g', 't'], dtype='<U1')"
      ]
     },
     "execution_count": 5,
     "metadata": {},
     "output_type": "execute_result"
    }
   ],
   "source": [
    "reference_genome.genome_coding_strand"
   ]
  },
  {
   "cell_type": "code",
   "execution_count": 6,
   "metadata": {},
   "outputs": [
    {
     "data": {
      "text/plain": [
       "array(['t', 'g', 'c', ..., 'g', 'c', 'a'], dtype='<U1')"
      ]
     },
     "execution_count": 6,
     "metadata": {},
     "output_type": "execute_result"
    }
   ],
   "source": [
    "reference_genome.genome_noncoding_strand"
   ]
  },
  {
   "cell_type": "code",
   "execution_count": 7,
   "metadata": {},
   "outputs": [
    {
     "data": {
      "text/plain": [
       "array(['a', 'c', 'g', ..., 'c', 'g', 't'], dtype='<U1')"
      ]
     },
     "execution_count": 7,
     "metadata": {},
     "output_type": "execute_result"
    }
   ],
   "source": [
    "reference_genome.genome_sequence"
   ]
  },
  {
   "cell_type": "code",
   "execution_count": 8,
   "metadata": {},
   "outputs": [
    {
     "data": {
      "text/plain": [
       "F gene\n",
       "1720 nucleotides, codes for protein\n",
       "actac...taaaa\n",
       "-100 -99 -98 -97 -96 ...-5 -4 -3 -2 -1 \n",
       "MSWKV...IPHS!\n",
       "1 2 3 4 5 ...536 537 538 539 540 "
      ]
     },
     "execution_count": 8,
     "metadata": {},
     "output_type": "execute_result"
    }
   ],
   "source": [
    "reference_genome.genes['F']"
   ]
  },
  {
   "cell_type": "code",
   "execution_count": 27,
   "metadata": {},
   "outputs": [
    {
     "ename": "AttributeError",
     "evalue": "'Genome' object has no attribute 'genome_sequence_metadata'",
     "output_type": "error",
     "traceback": [
      "\u001b[0;31m---------------------------------------------------------------------------\u001b[0m",
      "\u001b[0;31mAttributeError\u001b[0m                            Traceback (most recent call last)",
      "\u001b[0;32m<ipython-input-27-d7b0e7d3c51d>\u001b[0m in \u001b[0;36m<module>\u001b[0;34m()\u001b[0m\n\u001b[0;32m----> 1\u001b[0;31m \u001b[0mreference_genome\u001b[0m\u001b[0;34m.\u001b[0m\u001b[0mtable_variants_wrt\u001b[0m\u001b[0;34m(\u001b[0m\u001b[0mreference_genome\u001b[0m\u001b[0;34m)\u001b[0m\u001b[0;34m\u001b[0m\u001b[0m\n\u001b[0m",
      "\u001b[0;32m~/packages/gumpy/gumpy/genome.py\u001b[0m in \u001b[0;36mtable_variants_wrt\u001b[0;34m(self, other)\u001b[0m\n\u001b[1;32m    393\u001b[0m         \u001b[0;31m# VARIANTS_columns=['VARIANT','REF','ALT','GENOME_INDEX','GENE','POSITION','NUCLEOTIDE_NUMBER','AMINO_ACID_NUMBER','IS_SNP','IS_INDEL','INDEL_LENGTH','ELEMENT_TYPE','MUTATION_TYPE',\"HET_VARIANT_0\",\"HET_VARIANT_1\",\"HET_COVERAGE_0\",\"HET_COVERAGE_1\",\"HET_INDEL_LENGTH_0\",\"HET_INDEL_LENGTH_1\",\"HET_REF\",\"HET_ALT_0\",\"HET_ALT_1\"]\u001b[0m\u001b[0;34m\u001b[0m\u001b[0;34m\u001b[0m\u001b[0m\n\u001b[1;32m    394\u001b[0m         \u001b[0mVARIANTS_columns\u001b[0m\u001b[0;34m=\u001b[0m\u001b[0;34m[\u001b[0m\u001b[0;34m'VARIANT'\u001b[0m\u001b[0;34m,\u001b[0m\u001b[0;34m'REF'\u001b[0m\u001b[0;34m,\u001b[0m\u001b[0;34m'ALT'\u001b[0m\u001b[0;34m,\u001b[0m\u001b[0;34m'GENOME_INDEX'\u001b[0m\u001b[0;34m,\u001b[0m\u001b[0;34m'GENE'\u001b[0m\u001b[0;34m,\u001b[0m\u001b[0;34m'ELEMENT_TYPE'\u001b[0m\u001b[0;34m,\u001b[0m\u001b[0;34m'POSITION'\u001b[0m\u001b[0;34m,\u001b[0m\u001b[0;34m'NUCLEOTIDE_NUMBER'\u001b[0m\u001b[0;34m,\u001b[0m\u001b[0;34m'AMINO_ACID_NUMBER'\u001b[0m\u001b[0;34m,\u001b[0m\u001b[0;34m'INDEL_LENGTH'\u001b[0m\u001b[0;34m,\u001b[0m\u001b[0;34m\"COVERAGE\"\u001b[0m\u001b[0;34m,\u001b[0m\u001b[0;34m\"HET_REF\"\u001b[0m\u001b[0;34m,\u001b[0m\u001b[0;34m\"HET_ALT_0\"\u001b[0m\u001b[0;34m,\u001b[0m\u001b[0;34m\"HET_ALT_1\"\u001b[0m\u001b[0;34m,\u001b[0m\u001b[0;34m\"HET_VARIANT_0\"\u001b[0m\u001b[0;34m,\u001b[0m\u001b[0;34m\"HET_VARIANT_1\"\u001b[0m\u001b[0;34m,\u001b[0m\u001b[0;34m\"HET_COVERAGE_0\"\u001b[0m\u001b[0;34m,\u001b[0m\u001b[0;34m\"HET_COVERAGE_1\"\u001b[0m\u001b[0;34m,\u001b[0m\u001b[0;34m\"HET_INDEL_LENGTH_0\"\u001b[0m\u001b[0;34m,\u001b[0m\u001b[0;34m\"HET_INDEL_LENGTH_1\"\u001b[0m\u001b[0;34m]\u001b[0m\u001b[0;34m\u001b[0m\u001b[0m\n\u001b[0;32m--> 395\u001b[0;31m         \u001b[0;32mfor\u001b[0m \u001b[0mfield\u001b[0m \u001b[0;32min\u001b[0m \u001b[0mself\u001b[0m\u001b[0;34m.\u001b[0m\u001b[0mgenome_sequence_metadata\u001b[0m\u001b[0;34m:\u001b[0m\u001b[0;34m\u001b[0m\u001b[0m\n\u001b[0m\u001b[1;32m    396\u001b[0m             \u001b[0mVARIANTS_columns\u001b[0m\u001b[0;34m.\u001b[0m\u001b[0mappend\u001b[0m\u001b[0;34m(\u001b[0m\u001b[0mfield\u001b[0m\u001b[0;34m)\u001b[0m\u001b[0;34m\u001b[0m\u001b[0m\n\u001b[1;32m    397\u001b[0m         \u001b[0;32mfor\u001b[0m \u001b[0mcols\u001b[0m \u001b[0;32min\u001b[0m \u001b[0mVARIANTS_columns\u001b[0m\u001b[0;34m:\u001b[0m\u001b[0;34m\u001b[0m\u001b[0m\n",
      "\u001b[0;31mAttributeError\u001b[0m: 'Genome' object has no attribute 'genome_sequence_metadata'"
     ]
    }
   ],
   "source": [
    "reference_genome.table_variants_wrt(reference_genome)"
   ]
  },
  {
   "cell_type": "code",
   "execution_count": 11,
   "metadata": {},
   "outputs": [],
   "source": [
    "sample=copy.deepcopy(reference_genome)"
   ]
  },
  {
   "cell_type": "code",
   "execution_count": 21,
   "metadata": {},
   "outputs": [],
   "source": [
    "sample.genome_sequence[2]=\"t\"\n",
    "sample._recreate_genes(sample.gene_names)"
   ]
  },
  {
   "cell_type": "code",
   "execution_count": 15,
   "metadata": {},
   "outputs": [
    {
     "data": {
      "text/plain": [
       "array(['a', 'c', 't', ..., 'c', 'g', 't'], dtype='<U1')"
      ]
     },
     "execution_count": 15,
     "metadata": {},
     "output_type": "execute_result"
    }
   ],
   "source": [
    "sample.genome_sequence"
   ]
  },
  {
   "cell_type": "code",
   "execution_count": 16,
   "metadata": {},
   "outputs": [
    {
     "data": {
      "text/plain": [
       "array(['a', 'c', 'g', ..., 'c', 'g', 't'], dtype='<U1')"
      ]
     },
     "execution_count": 16,
     "metadata": {},
     "output_type": "execute_result"
    }
   ],
   "source": [
    "reference_genome.genome_sequence\n"
   ]
  },
  {
   "cell_type": "code",
   "execution_count": 29,
   "metadata": {},
   "outputs": [
    {
     "data": {
      "text/html": [
       "<div>\n",
       "<style scoped>\n",
       "    .dataframe tbody tr th:only-of-type {\n",
       "        vertical-align: middle;\n",
       "    }\n",
       "\n",
       "    .dataframe tbody tr th {\n",
       "        vertical-align: top;\n",
       "    }\n",
       "\n",
       "    .dataframe thead th {\n",
       "        text-align: right;\n",
       "    }\n",
       "</style>\n",
       "<table border=\"1\" class=\"dataframe\">\n",
       "  <thead>\n",
       "    <tr style=\"text-align: right;\">\n",
       "      <th></th>\n",
       "      <th>GENE</th>\n",
       "      <th>MUTATION</th>\n",
       "      <th>REF</th>\n",
       "      <th>ALT</th>\n",
       "      <th>POSITION</th>\n",
       "      <th>AMINO_ACID_NUMBER</th>\n",
       "      <th>GENOME_INDEX</th>\n",
       "      <th>NUCLEOTIDE_NUMBER</th>\n",
       "      <th>IS_SNP</th>\n",
       "      <th>IS_INDEL</th>\n",
       "      <th>IN_CDS</th>\n",
       "      <th>IN_PROMOTER</th>\n",
       "      <th>ELEMENT_TYPE</th>\n",
       "      <th>MUTATION_TYPE</th>\n",
       "      <th>INDEL_LENGTH</th>\n",
       "      <th>INDEL_1</th>\n",
       "      <th>INDEL_2</th>\n",
       "    </tr>\n",
       "  </thead>\n",
       "  <tbody>\n",
       "    <tr>\n",
       "      <td>0</td>\n",
       "      <td>N</td>\n",
       "      <td>t-52g</td>\n",
       "      <td>t</td>\n",
       "      <td>g</td>\n",
       "      <td>-52.0</td>\n",
       "      <td>0.0</td>\n",
       "      <td>3.0</td>\n",
       "      <td>-52.0</td>\n",
       "      <td>True</td>\n",
       "      <td>False</td>\n",
       "      <td>False</td>\n",
       "      <td>True</td>\n",
       "      <td>GENE</td>\n",
       "      <td>SNP</td>\n",
       "      <td>0.0</td>\n",
       "      <td>None</td>\n",
       "      <td>None</td>\n",
       "    </tr>\n",
       "  </tbody>\n",
       "</table>\n",
       "</div>"
      ],
      "text/plain": [
       "  GENE MUTATION REF ALT  POSITION  AMINO_ACID_NUMBER  GENOME_INDEX  \\\n",
       "0    N    t-52g   t   g     -52.0                0.0           3.0   \n",
       "\n",
       "   NUCLEOTIDE_NUMBER  IS_SNP  IS_INDEL  IN_CDS  IN_PROMOTER ELEMENT_TYPE  \\\n",
       "0              -52.0    True     False   False         True         GENE   \n",
       "\n",
       "  MUTATION_TYPE  INDEL_LENGTH INDEL_1 INDEL_2  \n",
       "0           SNP           0.0    None    None  "
      ]
     },
     "execution_count": 29,
     "metadata": {},
     "output_type": "execute_result"
    }
   ],
   "source": [
    "reference_genome.genes[\"N\"].table_mutations_wrt(sample.genes[\"N\"])"
   ]
  },
  {
   "cell_type": "code",
   "execution_count": 24,
   "metadata": {},
   "outputs": [
    {
     "data": {
      "text/plain": [
       "NC_004148.2\n",
       "Human metapneumovirus\n",
       "Human metapneumovirus\n",
       "13335 bases\n",
       "acg...cgt"
      ]
     },
     "execution_count": 24,
     "metadata": {},
     "output_type": "execute_result"
    }
   ],
   "source": [
    "sample"
   ]
  },
  {
   "cell_type": "code",
   "execution_count": null,
   "metadata": {},
   "outputs": [],
   "source": []
  }
 ],
 "metadata": {
  "kernelspec": {
   "display_name": "Python 3",
   "language": "python",
   "name": "python3"
  },
  "language_info": {
   "codemirror_mode": {
    "name": "ipython",
    "version": 3
   },
   "file_extension": ".py",
   "mimetype": "text/x-python",
   "name": "python",
   "nbconvert_exporter": "python",
   "pygments_lexer": "ipython3",
   "version": "3.5.6"
  }
 },
 "nbformat": 4,
 "nbformat_minor": 2
}
